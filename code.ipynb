import json
import random
import os
import openpyxl
from openpyxl import Workbook

def insert_all_jsonl_to_excel(input_dir, excel_file, sheet_name="Sheet1"):
    """
    Insert records from ALL .jsonl files in a directory into random rows of an Excel sheet.
    
    Args:
        input_dir (str): Path to directory containing .jsonl files.
        excel_file (str): Path to the Excel file (.xlsx). Will create if not exists.
        sheet_name (str): Sheet name where data will be inserted.
    """

    # Collect all records from all JSONL files
    all_records = []
    for root, _, files in os.walk(input_dir):
        for file_name in files:
            if file_name.endswith(".jsonl"):
                file_path = os.path.join(root, file_name)
                with open(file_path, "r", encoding="utf-8") as f:
                    for line in f:
                        rec = json.loads(line)
                        rec["source_file"] = file_name  # keep track of origin
                        all_records.append(rec)

    if not all_records:
        print("⚠️ No .jsonl files found in the directory.")
        return

    # Open or create workbook
    try:
        wb = openpyxl.load_workbook(excel_file)
        if sheet_name in wb.sheetnames:
            ws = wb[sheet_name]
        else:
            ws = wb.create_sheet(sheet_name)
    except FileNotFoundError:
        wb = Workbook()
        ws = wb.active
        ws.title = sheet_name

    # If sheet is empty, add headers
    if ws.max_row == 1 and ws["A1"].value is None:
        ws.append(["Row", "Example_ID", "Text", "Source_File"])

    # Define row space to scatter inserts randomly
    max_row = ws.max_row + len(all_records) + 50  

    for rec in all_records:
        rand_row = random.randint(2, max_row)  # row 1 = headers
        ws.insert_rows(rand_row)
        ws.cell(row=rand_row, column=1, value=rand_row)
        ws.cell(row=rand_row, column=2, value=rec.get("example_id"))
        ws.cell(row=rand_row, column=3, value=rec.get("text"))
        ws.cell(row=rand_row, column=4, value=rec.get("source_file"))

    wb.save(excel_file)
    print(f"✅ Inserted {len(all_records)} records from {input_dir} into {excel_file} (sheet: {sheet_name})")
